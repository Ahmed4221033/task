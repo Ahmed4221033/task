{
 "cells": [
  {
   "cell_type": "code",
   "execution_count": 1,
   "id": "f61e710a-8965-4a11-9f4c-7457a02f3437",
   "metadata": {},
   "outputs": [
    {
     "name": "stdout",
     "output_type": "stream",
     "text": [
      "Output of the network: [0.68340726 0.67795807]\n"
     ]
    }
   ],
   "source": [
    "import numpy as np\n",
    "def tanh(x):\n",
    "    return np.tanh(x)\n",
    "np.random.seed(42)\n",
    "\n",
    "# Initialize weights randomly between -0.5 and 0.5\n",
    "w1 = np.random.uniform(-0.5, 0.5)\n",
    "w2 = np.random.uniform(-0.5, 0.5)\n",
    "w3 = np.random.uniform(-0.5, 0.5)\n",
    "w4 = np.random.uniform(-0.5, 0.5)\n",
    "\n",
    "# Set biases\n",
    "b1 = 0.5\n",
    "b2 = 0.7\n",
    "\n",
    "x1 = 0.2\n",
    "x2 = 0.8\n",
    "\n",
    "z1 = w1 * x1 + w2 * x2 + b1\n",
    "z2 = w3 * x1 + w4 * x2 + b2\n",
    "\n",
    "a1 = tanh(z1)\n",
    "a2 = tanh(z2)\n",
    "\n",
    "output = np.array([a1, a2])\n",
    "print(\"Output of the network:\", output)\n"
   ]
  },
  {
   "cell_type": "code",
   "execution_count": null,
   "id": "0df383bb-d5a3-4cbc-932a-92291e1b482f",
   "metadata": {},
   "outputs": [],
   "source": []
  }
 ],
 "metadata": {
  "kernelspec": {
   "display_name": "Python [conda env:base] *",
   "language": "python",
   "name": "conda-base-py"
  },
  "language_info": {
   "codemirror_mode": {
    "name": "ipython",
    "version": 3
   },
   "file_extension": ".py",
   "mimetype": "text/x-python",
   "name": "python",
   "nbconvert_exporter": "python",
   "pygments_lexer": "ipython3",
   "version": "3.12.7"
  }
 },
 "nbformat": 4,
 "nbformat_minor": 5
}
